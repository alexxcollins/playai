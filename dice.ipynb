{
 "cells": [
  {
   "cell_type": "code",
   "execution_count": 1,
   "metadata": {},
   "outputs": [],
   "source": [
    "from __future__ import print_function\n",
    "from ipywidgets import interact, interactive, fixed, interact_manual\n",
    "import ipywidgets as widgets\n",
    "from ipywidgets import GridspecLayout, Button, Layout, Output, HBox\n",
    "from IPython.display import Image, YouTubeVideo\n",
    "from pathlib import Path\n",
    "import numpy as np\n",
    "from bqplot import OrdinalScale, LinearScale, Bars, Lines, Axis, Figure\n",
    "from bqplot import pyplot as plt\n",
    "import warnings\n",
    "\n",
    "warnings.filterwarnings('ignore')\n"
   ]
  },
  {
   "cell_type": "code",
   "execution_count": 2,
   "metadata": {},
   "outputs": [],
   "source": [
    "def create_expanded_button(description, button_style):\n",
    "    return Button(description=description, button_style=button_style, layout=Layout(height='auto', width='auto'))\n",
    "def create_expanded_output(description, button_style):\n",
    "    return Output(description=description, button_style=button_style, layout=Layout(height='auto', width='auto'))\n"
   ]
  },
  {
   "cell_type": "markdown",
   "metadata": {},
   "source": [
    "# Felix's dice race!\n",
    "\n",
    "## Roll either one or two dice and track their progress as they race up the chart. Which number will win?\n",
    "\n",
    "* Select how many dice you want to roll and how many times you need to roll a number for that number to win.\n",
    "* To roll the dice hit the \"Roll dice\" button.\n",
    "* Add the dice up (easy for one dice) - and press the correct orange button. Try to get a thumbs up!\n",
    "* Add the dice roll to the race by pressing one of the \"add to race\" buttons at the bottom of the grid. You can skip adding up the dice (pressing the orange buttons) if you like.\n",
    "* You can clear the dice roll by pressing the \"Clear Dice\" button. This is optional.\n",
    "* To end the current race and start a new one, click \"Clear Race\".\n",
    "* If playing on a phone it's better in landscape (-:"
   ]
  },
  {
   "cell_type": "code",
   "execution_count": 3,
   "metadata": {},
   "outputs": [],
   "source": [
    "imgs = Path(\"images\")\n",
    "die = ['a']*6\n",
    "die[0] = imgs/\"one.png\"\n",
    "die[1] = imgs/\"two.png\"\n",
    "die[2] = imgs/\"three.png\"\n",
    "die[3] = imgs/\"four.png\"\n",
    "die[4] = imgs/\"five.png\"\n",
    "die[5] = imgs/\"six.png\"\n",
    "thumbs_up = imgs/\"thumbsup.png\"\n",
    "thumbs_down = imgs/\"thumbsdown.png\""
   ]
  },
  {
   "cell_type": "code",
   "execution_count": 4,
   "metadata": {},
   "outputs": [],
   "source": [
    "btn_one = Button(description='Roll one dice')\n",
    "btn_two = Button(description='Roll two dice')\n",
    "total = Output()\n",
    "pause = Output()\n",
    "pause.value = False\n",
    "tracker_dict = {0: Output(),\n",
    "               1: Output(),\n",
    "               2: Output(),\n",
    "               3: Output(),\n",
    "               4: Output(),\n",
    "               5: Output(),\n",
    "               6: Output(),\n",
    "               7: Output(),\n",
    "               8: Output(),\n",
    "               9: Output(),\n",
    "               10: Output(),\n",
    "               11: Output(),\n",
    "               12: Output()}\n",
    "for value in tracker_dict.values():\n",
    "    value.value = 0"
   ]
  },
  {
   "cell_type": "code",
   "execution_count": 5,
   "metadata": {},
   "outputs": [
    {
     "data": {
      "application/vnd.jupyter.widget-view+json": {
       "model_id": "6422f75db2104024ab8a05a178ae8a8b",
       "version_major": 2,
       "version_minor": 0
      },
      "text/plain": [
       "HBox(children=(RadioButtons(description='Dice:', index=1, options=('one dice', 'two dice'), value='two dice'),…"
      ]
     },
     "metadata": {},
     "output_type": "display_data"
    }
   ],
   "source": [
    "no_dice = widgets.RadioButtons(\n",
    "    options=['one dice','two dice'],\n",
    "    value='two dice', # Defaults to 'two dice'\n",
    "#    layout={'width': 'max-content'}, # If the items' names are long\n",
    "    description='Dice:',\n",
    "    disabled=False\n",
    "    )\n",
    "winning_no = widgets.RadioButtons(\n",
    "    options=[5,10,20,50],\n",
    "    value=10, # Defaults to 10\n",
    "#    layout={'width': 'max-content'}, # If the items' names are long\n",
    "    description='Race to:',\n",
    "    disabled=False\n",
    "    )\n",
    "\n",
    "HBox([no_dice, winning_no])"
   ]
  },
  {
   "cell_type": "code",
   "execution_count": 6,
   "metadata": {},
   "outputs": [
    {
     "data": {
      "application/vnd.jupyter.widget-view+json": {
       "model_id": "16349cd1f7ac4e34acecfd9144b570a8",
       "version_major": 2,
       "version_minor": 0
      },
      "text/plain": [
       "GridspecLayout(children=(Button(button_style='primary', description='Clear Dice', layout=Layout(grid_area='wid…"
      ]
     },
     "metadata": {},
     "output_type": "display_data"
    }
   ],
   "source": [
    "grid = GridspecLayout(9,10, width='1000px', height='450px')\n",
    "\n",
    "grid[0,:2] = create_expanded_button('Clear Dice', 'primary')\n",
    "grid[0,2:4] = create_expanded_button('', 'primary')\n",
    "grid[0,4:6] = create_expanded_button('Clear Race', 'danger')\n",
    "grid[1:5,0:2] = create_expanded_button('Roll Dice', 'Success')\n",
    "grid[1:5,2:4] = create_expanded_output('', 'info')\n",
    "grid[1:5,4:6] = create_expanded_output('', 'info')\n",
    "grid[7:,2:4] = create_expanded_output('result','')\n",
    "grid[7:,:2] = create_expanded_button('add to race', 'primary')\n",
    "grid[7:,4:6] = create_expanded_button('add to race', 'primary')\n",
    "grid[:9,6:] = Output(layout=Layout(width='auto', height='auto'))\n",
    "for i in range(2):\n",
    "    for j in range(6):\n",
    "        grid[i+5,j] = create_expanded_button('{}'.format(i*6 + (j + 1)), 'warning')\n",
    "\n",
    "grid"
   ]
  },
  {
   "cell_type": "code",
   "execution_count": 7,
   "metadata": {},
   "outputs": [
    {
     "data": {
      "application/vnd.jupyter.widget-view+json": {
       "model_id": "5e1cf6fca9cb44ea960ba0ddc8661725",
       "version_major": 2,
       "version_minor": 0
      },
      "text/plain": [
       "Output()"
      ]
     },
     "metadata": {},
     "output_type": "display_data"
    }
   ],
   "source": [
    "chart = Output(height = 600, width = 300)\n",
    "chart"
   ]
  },
  {
   "cell_type": "code",
   "execution_count": 8,
   "metadata": {},
   "outputs": [],
   "source": [
    "def on_click_throw_dice(change):\n",
    "    grid[1,2].clear_output()\n",
    "    grid[1,4].clear_output()\n",
    "    grid[7,3].clear_output()\n",
    "    if no_dice.value == 'one dice':\n",
    "        dice_throw = np.random.randint(6, size=None)\n",
    "        with grid[1,2]: display(Image(die[dice_throw], width=195, height=195))\n",
    "        # random ints are in (0, 5) representing dice throws in (1,6) - so add one!\n",
    "        total.value = dice_throw+1\n",
    "    if no_dice.value == 'two dice':\n",
    "        dice_throw = np.random.randint(6, size=2)\n",
    "        with grid[1,2]: display(Image(die[dice_throw[0]], width=195, height=195))\n",
    "        with grid[1,4]: display(Image(die[dice_throw[1]], width=195, height=195))\n",
    "        # random ints are in (0, 5) representing dice throws in (1,6) - so add two!\n",
    "        total.value = dice_throw.sum()+2\n",
    "\n",
    "grid[1,1].on_click(on_click_throw_dice)"
   ]
  },
  {
   "cell_type": "code",
   "execution_count": 9,
   "metadata": {},
   "outputs": [],
   "source": [
    "def on_click_clear(change):\n",
    "    grid[1,2].clear_output()\n",
    "    grid[1,4].clear_output()\n",
    "    grid[7,3].clear_output()\n",
    "    \n",
    "grid[0,0].on_click(on_click_clear)"
   ]
  },
  {
   "cell_type": "code",
   "execution_count": 10,
   "metadata": {},
   "outputs": [],
   "source": [
    "def on_click_clear_all(change):\n",
    "    grid[1,2].clear_output()\n",
    "    grid[1,4].clear_output()\n",
    "    grid[7,3].clear_output()\n",
    "    grid[1,6].clear_output()\n",
    "    chart.clear_output()\n",
    "    for value in tracker_dict.values():\n",
    "        value.value = 0\n",
    "    \n",
    "grid[0,5].on_click(on_click_clear_all)"
   ]
  },
  {
   "cell_type": "code",
   "execution_count": 11,
   "metadata": {},
   "outputs": [],
   "source": [
    "def on_click_add(change):\n",
    "    tracker_dict[total.value].value += 1\n",
    "    chart.clear_output()\n",
    "    grid[0,8].clear_output()\n",
    "     \n",
    "    if no_dice.value=='one dice': \n",
    "        x_min = 1\n",
    "        x_max = 6\n",
    "        x_data = np.asarray(list(np.arange(x_min,x_max+1)))\n",
    "        y_data = np.array(np.zeros(len(x_data)),dtype=int)\n",
    "        for i in range(x_max):\n",
    "            y_data[i] = tracker_dict[i+1].value\n",
    "    if no_dice.value=='two dice': \n",
    "        x_min = 2\n",
    "        x_max = 12\n",
    "        x_data = np.asarray(list(np.arange(x_min,x_max+1)))\n",
    "        y_data = np.array(np.zeros(len(x_data)),dtype=int)\n",
    "        for i in range(x_max-1):\n",
    "            y_data[i] = tracker_dict[i+2].value\n",
    "    \n",
    "    \n",
    "    x_ord = OrdinalScale()\n",
    "    x_ord.min = x_min\n",
    "    x_ord.max = x_max\n",
    "    y_sc = LinearScale()\n",
    "    y_sc.min = 0\n",
    "    y_sc.max = winning_no.value\n",
    "\n",
    "    bar = Bars(x=x_data, y=y_data, scales={'x': x_ord, 'y':y_sc})\n",
    "\n",
    "    ax_x = Axis(scale=x_ord, grid_lines='none', \n",
    "                label='Dice Roll', label_offset='35px')\n",
    "    ax_y = Axis(scale=y_sc, orientation='vertical', tick_format='d',\n",
    "                tick_values= np.arange(1,winning_no.value+1), \n",
    "                grid_lines='dashed', label='Number of rolls',\n",
    "                label_offset='20px')\n",
    "\n",
    "    race = Figure(marks=[bar], axes=[ax_x, ax_y], \n",
    "                  fig_margin = dict(top=60, bottom=80, left=60, right=30),\n",
    "                  padding_x=0, padding_y=0, title='Race!!', title_offet='60px')\n",
    "                  #layout=Layout(width='auto', height='auto'))\n",
    "    \n",
    "    with chart: display(race)\n",
    "    with grid[0,8]: display(race)\n",
    "        \n",
    "    if max(y_data) == winning_no.value:\n",
    "        grid[1,2].clear_output()\n",
    "        grid[1,4].clear_output()\n",
    "        with grid[1,2]: display(YouTubeVideo('by8Gt96pq58', height=195, width=195))\n",
    "        with grid[1,4]: \n",
    "            if no_dice.value=='one dice': print(f'{(y_data.tolist().index(winning_no.value) + 1)} wins!!')\n",
    "            if no_dice.value=='two dice': print(f'{(y_data.tolist().index(winning_no.value) + 2)} wins!!')\n",
    "        with grid[7,3]: display(Image(thumbs_up, width=195, height=100))\n",
    "        for value in tracker_dict.values():\n",
    "            value.value = 0\n",
    "            \n",
    "    \n",
    "# def on_click_add(change):\n",
    "#     chart_update()\n",
    "\n",
    "grid[7,0].on_click(on_click_add)\n",
    "grid[7,5].on_click(on_click_add)"
   ]
  },
  {
   "cell_type": "code",
   "execution_count": 18,
   "metadata": {},
   "outputs": [],
   "source": [
    "# There must be a more effecient way to do this! Like return the location of the button that has been pressed\n",
    "# Anyway, twelve functions to check whether the correct button was pressed or not.\n",
    "def on_click_one(change):\n",
    "    grid[7,3].clear_output()\n",
    "    if total.value == 1: \n",
    "        with grid[7,3]: display(Image(thumbs_up, width=195, height=100))\n",
    "    else:\n",
    "        with grid[7,3]: display(Image(thumbs_down, width=195, height=100))\n",
    "grid[5,0].on_click(on_click_one)\n",
    "# grid[5,0].on_click(on_click_add)\n",
    "\n",
    "def on_click_two(change):\n",
    "    grid[7,3].clear_output()\n",
    "    if total.value == 2: \n",
    "        with grid[7,3]: display(Image(thumbs_up, width=195, height=100))\n",
    "    else:\n",
    "        with grid[7,3]: display(Image(thumbs_down, width=195, height=100))\n",
    "grid[5,1].on_click(on_click_two)\n",
    "# grid[5,1].on_click(on_click_add)\n",
    "\n",
    "def on_click_three(change):\n",
    "    grid[7,3].clear_output()\n",
    "    if total.value == 3: \n",
    "        with grid[7,3]: display(Image(thumbs_up, width=195, height=100))\n",
    "    else:\n",
    "        with grid[7,3]: display(Image(thumbs_down, width=195, height=100))\n",
    "grid[5,2].on_click(on_click_three)\n",
    "# grid[5,2].on_click(on_click_add)\n",
    "\n",
    "def on_click_four(change):\n",
    "    grid[7,3].clear_output()\n",
    "    if total.value == 4: \n",
    "        with grid[7,3]: display(Image(thumbs_up, width=195, height=100))\n",
    "    else:\n",
    "        with grid[7,3]: display(Image(thumbs_down, width=195, height=100))\n",
    "grid[5,3].on_click(on_click_four)\n",
    "# grid[5,3].on_click(on_click_add)\n",
    "\n",
    "def on_click_five(change):\n",
    "    grid[7,3].clear_output()\n",
    "    if total.value == 5: \n",
    "        with grid[7,3]: display(Image(thumbs_up, width=195, height=100))\n",
    "    else:\n",
    "        with grid[7,3]: display(Image(thumbs_down, width=195, height=100))\n",
    "grid[5,4].on_click(on_click_five)\n",
    "# grid[5,4].on_click(on_click_add)\n",
    "\n",
    "def on_click_six(change):\n",
    "    grid[7,3].clear_output()\n",
    "    if total.value == 6: \n",
    "        with grid[7,3]: display(Image(thumbs_up, width=195, height=100))\n",
    "    else:\n",
    "        with grid[7,3]: display(Image(thumbs_down, width=195, height=100))\n",
    "grid[5,5].on_click(on_click_six)\n",
    "# grid[5,5].on_click(on_click_add)\n",
    "\n",
    "def on_click_seven(change):\n",
    "    grid[7,3].clear_output()\n",
    "    if total.value == 7: \n",
    "        with grid[7,3]: display(Image(thumbs_up, width=195, height=100))\n",
    "    else:\n",
    "        with grid[7,3]: display(Image(thumbs_down, width=195, height=100))\n",
    "grid[6,0].on_click(on_click_seven)\n",
    "# grid[6,0].on_click(on_click_add)\n",
    "\n",
    "def on_click_eight(change):\n",
    "    grid[7,3].clear_output()\n",
    "    if total.value == 8: \n",
    "        with grid[7,3]: display(Image(thumbs_up, width=195, height=100))\n",
    "    else:\n",
    "        with grid[7,3]: display(Image(thumbs_down, width=195, height=100))\n",
    "grid[6,1].on_click(on_click_eight)\n",
    "# grid[6,1].on_click(on_click_add)\n",
    "\n",
    "def on_click_nine(change):\n",
    "    grid[7,3].clear_output()\n",
    "    if total.value == 9: \n",
    "        with grid[7,3]: display(Image(thumbs_up, width=195, height=100))\n",
    "    else:\n",
    "        with grid[7,3]: display(Image(thumbs_down, width=195, height=100))\n",
    "grid[6,2].on_click(on_click_nine)\n",
    "# grid[6,2].on_click(on_click_add)\n",
    "\n",
    "def on_click_ten(change):\n",
    "    grid[7,3].clear_output()\n",
    "    if total.value == 10: \n",
    "        with grid[7,3]: display(Image(thumbs_up, width=195, height=100))\n",
    "    else:\n",
    "        with grid[7,3]: display(Image(thumbs_down, width=195, height=100))\n",
    "grid[6,3].on_click(on_click_ten)\n",
    "# grid[6,3].on_click(on_click_add)\n",
    "\n",
    "def on_click_eleven(change):\n",
    "    grid[7,3].clear_output()\n",
    "    if total.value == 11: \n",
    "        with grid[7,3]: display(Image(thumbs_up, width=195, height=100))\n",
    "    else:\n",
    "        with grid[7,3]: display(Image(thumbs_down, width=195, height=100))\n",
    "grid[6,4].on_click(on_click_eleven)\n",
    "# grid[6,4].on_click(on_click_add)\n",
    "\n",
    "def on_click_twelve(change):\n",
    "    grid[7,3].clear_output()\n",
    "    if total.value == 12: \n",
    "        with grid[7,3]: display(Image(thumbs_up, width=195, height=100))\n",
    "    else:\n",
    "        with grid[7,3]: display(Image(thumbs_down, width=195, height=100))\n",
    "grid[6,5].on_click(on_click_twelve)\n",
    "# grid[6,5].on_click(on_click_add)"
   ]
  },
  {
   "cell_type": "code",
   "execution_count": 13,
   "metadata": {},
   "outputs": [],
   "source": [
    "####Experimenting with altair implementation of chart. It works, but not sure it improves it that much\n",
    "\n",
    "# import pandas as pd\n",
    "# index = range(1,13)\n",
    "# data = [0] * 12\n",
    "# dummy = data\n",
    "# for i in range(1,13):\n",
    "#     data[i-1] = tracker_dict[i].value\n",
    "\n",
    "# data\n",
    "# df=pd.DataFrame(np.zeros((12,2)),columns=['dice','quantity'])\n",
    "# df.dice = range(1,13)\n",
    "# df.quantity = data\n",
    "# df\n",
    "\n",
    "# mychart = alt.Chart(df).mark_bar().encode(\n",
    "#     alt.X('dice:O'),\n",
    "#     alt.Y('quantity:Q')\n",
    "# )"
   ]
  },
  {
   "cell_type": "code",
   "execution_count": 14,
   "metadata": {},
   "outputs": [],
   "source": [
    "# output = Output()\n",
    "# with output: display(mychart)\n",
    "# output"
   ]
  },
  {
   "cell_type": "code",
   "execution_count": null,
   "metadata": {},
   "outputs": [],
   "source": []
  }
 ],
 "metadata": {
  "kernelspec": {
   "display_name": "Python (fastai)",
   "language": "python",
   "name": "fastai"
  },
  "language_info": {
   "codemirror_mode": {
    "name": "ipython",
    "version": 3
   },
   "file_extension": ".py",
   "mimetype": "text/x-python",
   "name": "python",
   "nbconvert_exporter": "python",
   "pygments_lexer": "ipython3",
   "version": "3.7.7"
  }
 },
 "nbformat": 4,
 "nbformat_minor": 4
}
