{
 "cells": [
  {
   "cell_type": "code",
   "execution_count": 1,
   "metadata": {},
   "outputs": [],
   "source": [
    "from __future__ import print_function\n",
    "from ipywidgets import interact, interactive, fixed, interact_manual\n",
    "import ipywidgets as widgets\n",
    "from ipywidgets import GridspecLayout, Button, Layout, Output\n",
    "from IPython.display import Image\n",
    "from pathlib import Path\n",
    "import numpy as np\n",
    "from bqplot import OrdinalScale, LinearScale, Bars, Lines, Axis, Figure\n",
    "from bqplot import pyplot as plt\n",
    "import warnings\n",
    "\n",
    "warnings.filterwarnings('ignore')\n"
   ]
  },
  {
   "cell_type": "code",
   "execution_count": 2,
   "metadata": {},
   "outputs": [],
   "source": [
    "def create_expanded_button(description, button_style):\n",
    "    return Button(description=description, button_style=button_style, layout=Layout(height='auto', width='auto'))\n",
    "def create_expanded_output(description, button_style):\n",
    "    return Output(description=description, button_style=button_style, layout=Layout(height='auto', width='auto'))\n"
   ]
  },
  {
   "cell_type": "markdown",
   "metadata": {},
   "source": [
    "# Dice race!\n",
    "\n",
    "## Roll either one or two dice and track their progress as they race up the chart. Which number will win?\n",
    "\n",
    "* To roll the dice hit the \"one dice\" or \"two dice\" buttons.\n",
    "* Add them up (easy for one dice) - and press the correct orange button. Try to get a thumbs up!\n",
    "* Add the dice roll to the race by pressing one of the \"add to race\" buttons at the bottom of the grid. You can skip adding up the dice (pressing the orange buttons) if you like.\n",
    "* You can clear the dice roll by pressing the \"Clear Dice\" button. This is optional.\n",
    "* If playing on a phone it's better in landscape (-:"
   ]
  },
  {
   "cell_type": "code",
   "execution_count": 57,
   "metadata": {},
   "outputs": [],
   "source": [
    "imgs = Path(\"images\")\n",
    "die = ['a']*6\n",
    "die[0] = imgs/\"one.png\"\n",
    "die[1] = imgs/\"two.png\"\n",
    "die[2] = imgs/\"three.png\"\n",
    "die[3] = imgs/\"four.png\"\n",
    "die[4] = imgs/\"five.png\"\n",
    "die[5] = imgs/\"six.png\"\n",
    "thumbs_up = imgs/\"thumbsup.png\"\n",
    "thumbs_down = imgs/\"thumbsdown.png\""
   ]
  },
  {
   "cell_type": "code",
   "execution_count": 58,
   "metadata": {},
   "outputs": [],
   "source": [
    "btn_one = Button(description='Roll one dice')\n",
    "btn_two = Button(description='Roll two dice')\n",
    "total = Output()\n",
    "tracker_dict = {0: Output(),\n",
    "               1: Output(),\n",
    "               2: Output(),\n",
    "               3: Output(),\n",
    "               4: Output(),\n",
    "               5: Output(),\n",
    "               6: Output(),\n",
    "               7: Output(),\n",
    "               8: Output(),\n",
    "               9: Output(),\n",
    "               10: Output(),\n",
    "               11: Output(),\n",
    "               12: Output()}\n",
    "for value in tracker_dict.values():\n",
    "    value.value = 0"
   ]
  },
  {
   "cell_type": "code",
   "execution_count": 67,
   "metadata": {},
   "outputs": [
    {
     "data": {
      "application/vnd.jupyter.widget-view+json": {
       "model_id": "343c01bdc2ab4131ad84bbe9c1c85641",
       "version_major": 2,
       "version_minor": 0
      },
      "text/plain": [
       "GridspecLayout(children=(Button(button_style='primary', description='Clear Dice', layout=Layout(grid_area='wid…"
      ]
     },
     "metadata": {},
     "output_type": "display_data"
    }
   ],
   "source": [
    "grid = GridspecLayout(9,10, width='1000px', height='450px')\n",
    "\n",
    "grid[0,:6] = create_expanded_button('Clear Dice', 'primary')\n",
    "grid[1:5,0] = create_expanded_button('One Dice', 'Success')\n",
    "grid[1:5,1] = create_expanded_button('Two Dice', 'Success')\n",
    "grid[1:5,2:4] = create_expanded_output('', 'info')\n",
    "grid[1:5,4:6] = create_expanded_output('', 'info')\n",
    "grid[7:,2:4] = create_expanded_output('result','')\n",
    "grid[7:,:2] = create_expanded_button('add to race', 'primary')\n",
    "grid[7:,4:6] = create_expanded_button('add to race', 'primary')\n",
    "grid[:9,6:] = Output(layout=Layout(display='flex-shrink'))\n",
    "for i in range(2):\n",
    "    for j in range(6):\n",
    "        grid[i+5,j] = create_expanded_button('{}'.format(i*6 + (j + 1)), 'warning')\n",
    "\n",
    "grid"
   ]
  },
  {
   "cell_type": "code",
   "execution_count": 68,
   "metadata": {},
   "outputs": [
    {
     "data": {
      "application/vnd.jupyter.widget-view+json": {
       "model_id": "50538e90b0d44b5a9120fcb897cec05a",
       "version_major": 2,
       "version_minor": 0
      },
      "text/plain": [
       "Output()"
      ]
     },
     "metadata": {},
     "output_type": "display_data"
    }
   ],
   "source": [
    "chart = Output(height = 600, width = 300)\n",
    "chart"
   ]
  },
  {
   "cell_type": "code",
   "execution_count": 69,
   "metadata": {},
   "outputs": [],
   "source": [
    "def on_click_throw_one(change):\n",
    "    grid[1,2].clear_output()\n",
    "    grid[1,4].clear_output()\n",
    "    dice_throw = np.random.randint(6, size=None)\n",
    "    with grid[1,2]: display(Image(die[dice_throw], width=195, height=195))\n",
    "    # random ints are in (0, 5) representing dice throws in (1,6) - so add one!\n",
    "    total.value = dice_throw+1\n",
    "\n",
    "grid[1,0].on_click(on_click_throw_one)"
   ]
  },
  {
   "cell_type": "code",
   "execution_count": 70,
   "metadata": {},
   "outputs": [],
   "source": [
    "def on_click_throw_two(change):\n",
    "    grid[1,2].clear_output()\n",
    "    grid[1,4].clear_output()\n",
    "    dice_throw = np.random.randint(6, size=2)\n",
    "    with grid[1,2]: display(Image(die[dice_throw[0]], width=195, height=195))\n",
    "    with grid[1,4]: display(Image(die[dice_throw[1]], width=195, height=195))\n",
    "    # random ints are in (0, 5) representing dice throws in (1,6) - so add two!\n",
    "    total.value = dice_throw.sum()+2\n",
    "\n",
    "grid[1,1].on_click(on_click_throw_two)"
   ]
  },
  {
   "cell_type": "code",
   "execution_count": 71,
   "metadata": {},
   "outputs": [],
   "source": [
    "def on_click_clear(change):\n",
    "    grid[1,2].clear_output()\n",
    "    grid[1,4].clear_output()\n",
    "    grid[7,3].clear_output()\n",
    "    \n",
    "grid[0,0].on_click(on_click_clear)"
   ]
  },
  {
   "cell_type": "code",
   "execution_count": 75,
   "metadata": {},
   "outputs": [],
   "source": [
    "def on_click_add(change):\n",
    "    tracker_dict[total.value].value += 1\n",
    "    total.value = 0\n",
    "    chart.clear_output()\n",
    "    grid[0,8].clear_output()\n",
    "    \n",
    "    x_data = np.asarray(list(tracker_dict.keys())) + 1\n",
    "    y_data = np.array(np.zeros(12),dtype=int)\n",
    "    for key in tracker_dict.keys():\n",
    "        if key >= 0: y_data[key - 1] = tracker_dict[key].value\n",
    "\n",
    "    x_ord = OrdinalScale()\n",
    "    y_sc = LinearScale()\n",
    "    y_sc.min = 0\n",
    "    y_sc.max = max(max(y_data),10)\n",
    "\n",
    "    bar = Bars(x=x_data, y=y_data, scales={'x': x_ord, 'y':\n",
    "    y_sc})\n",
    "\n",
    "    ax_x = Axis(scale=x_ord, grid_lines='solid', label='Dice Roll')\n",
    "    ax_y = Axis(scale=y_sc, orientation='vertical', tick_format='d',\n",
    "                tick_values= np.arange(0,max(max(y_data),10)+1), \n",
    "                grid_lines='solid', label='Number of rolls')\n",
    "\n",
    "    race = Figure(marks=[bar], axes=[ax_x, ax_y], title='Race!!')\n",
    "    \n",
    "    with chart: display(race)\n",
    "    with grid[0,8]: display(race,display='flex-shrink')\n",
    "    \n",
    "grid[7,0].on_click(on_click_add)\n",
    "grid[7,5].on_click(on_click_add)"
   ]
  },
  {
   "cell_type": "code",
   "execution_count": 73,
   "metadata": {},
   "outputs": [],
   "source": [
    "# There must be a more effecient way to do this! Like return the location of the button that has been pressed\n",
    "# Anyway, twelve functions to check whether the correct button was pressed or not.\n",
    "def on_click_one(change):\n",
    "    grid[7,3].clear_output()\n",
    "    if total.value == 1: \n",
    "        with grid[7,3]: display(Image(thumbs_up, width=195, height=100))\n",
    "    else:\n",
    "        with grid[7,3]: display(Image(thumbs_down, width=195, height=100))\n",
    "grid[5,0].on_click(on_click_one)\n",
    "\n",
    "def on_click_two(change):\n",
    "    grid[7,3].clear_output()\n",
    "    if total.value == 2: \n",
    "        with grid[7,3]: display(Image(thumbs_up, width=195, height=100))\n",
    "    else:\n",
    "        with grid[7,3]: display(Image(thumbs_down, width=195, height=100))\n",
    "grid[5,1].on_click(on_click_two)\n",
    "\n",
    "def on_click_three(change):\n",
    "    grid[7,3].clear_output()\n",
    "    if total.value == 3: \n",
    "        with grid[7,3]: display(Image(thumbs_up, width=195, height=100))\n",
    "    else:\n",
    "        with grid[7,3]: display(Image(thumbs_down, width=195, height=100))\n",
    "grid[5,2].on_click(on_click_three)\n",
    "\n",
    "def on_click_four(change):\n",
    "    grid[7,3].clear_output()\n",
    "    if total.value == 4: \n",
    "        with grid[7,3]: display(Image(thumbs_up, width=195, height=100))\n",
    "    else:\n",
    "        with grid[7,3]: display(Image(thumbs_down, width=195, height=100))\n",
    "grid[5,3].on_click(on_click_four)\n",
    "\n",
    "def on_click_five(change):\n",
    "    grid[7,3].clear_output()\n",
    "    if total.value == 5: \n",
    "        with grid[7,3]: display(Image(thumbs_up, width=195, height=100))\n",
    "    else:\n",
    "        with grid[7,3]: display(Image(thumbs_down, width=195, height=100))\n",
    "grid[5,4].on_click(on_click_five)\n",
    "\n",
    "def on_click_six(change):\n",
    "    grid[7,3].clear_output()\n",
    "    if total.value == 6: \n",
    "        with grid[7,3]: display(Image(thumbs_up, width=195, height=100))\n",
    "    else:\n",
    "        with grid[7,3]: display(Image(thumbs_down, width=195, height=100))\n",
    "grid[5,5].on_click(on_click_six)\n",
    "\n",
    "def on_click_seven(change):\n",
    "    grid[7,3].clear_output()\n",
    "    if total.value == 7: \n",
    "        with grid[7,3]: display(Image(thumbs_up, width=195, height=100))\n",
    "    else:\n",
    "        with grid[7,3]: display(Image(thumbs_down, width=195, height=100))\n",
    "grid[6,0].on_click(on_click_seven)\n",
    "\n",
    "def on_click_eight(change):\n",
    "    grid[7,3].clear_output()\n",
    "    if total.value == 8: \n",
    "        with grid[7,3]: display(Image(thumbs_up, width=195, height=100))\n",
    "    else:\n",
    "        with grid[7,3]: display(Image(thumbs_down, width=195, height=100))\n",
    "grid[6,1].on_click(on_click_eight)\n",
    "\n",
    "def on_click_nine(change):\n",
    "    grid[7,3].clear_output()\n",
    "    if total.value == 9: \n",
    "        with grid[7,3]: display(Image(thumbs_up, width=195, height=100))\n",
    "    else:\n",
    "        with grid[7,3]: display(Image(thumbs_down, width=195, height=100))\n",
    "grid[6,2].on_click(on_click_nine)\n",
    "\n",
    "def on_click_ten(change):\n",
    "    grid[7,3].clear_output()\n",
    "    if total.value == 10: \n",
    "        with grid[7,3]: display(Image(thumbs_up, width=195, height=100))\n",
    "    else:\n",
    "        with grid[7,3]: display(Image(thumbs_down, width=195, height=100))\n",
    "grid[6,3].on_click(on_click_ten)\n",
    "\n",
    "def on_click_eleven(change):\n",
    "    grid[7,3].clear_output()\n",
    "    if total.value == 11: \n",
    "        with grid[7,3]: display(Image(thumbs_up, width=195, height=100))\n",
    "    else:\n",
    "        with grid[7,3]: display(Image(thumbs_down, width=195, height=100))\n",
    "grid[6,4].on_click(on_click_eleven)\n",
    "\n",
    "def on_click_twelve(change):\n",
    "    grid[7,3].clear_output()\n",
    "    if total.value == 12: \n",
    "        with grid[7,3]: display(Image(thumbs_up, width=195, height=100))\n",
    "    else:\n",
    "        with grid[7,3]: display(Image(thumbs_down, width=195, height=100))\n",
    "grid[6,5].on_click(on_click_twelve)"
   ]
  },
  {
   "cell_type": "code",
   "execution_count": 54,
   "metadata": {},
   "outputs": [],
   "source": [
    "####Experimenting with altair implementation of chart. It works, but not sure it improves it that much\n",
    "\n",
    "# import pandas as pd\n",
    "# index = range(1,13)\n",
    "# data = [0] * 12\n",
    "# dummy = data\n",
    "# for i in range(1,13):\n",
    "#     data[i-1] = tracker_dict[i].value\n",
    "\n",
    "# data\n",
    "# df=pd.DataFrame(np.zeros((12,2)),columns=['dice','quantity'])\n",
    "# df.dice = range(1,13)\n",
    "# df.quantity = data\n",
    "# df\n",
    "\n",
    "# mychart = alt.Chart(df).mark_bar().encode(\n",
    "#     alt.X('dice:O'),\n",
    "#     alt.Y('quantity:Q')\n",
    "# )"
   ]
  },
  {
   "cell_type": "code",
   "execution_count": 17,
   "metadata": {},
   "outputs": [],
   "source": [
    "# output = Output()\n",
    "# with output: display(mychart)\n",
    "# output"
   ]
  }
 ],
 "metadata": {
  "kernelspec": {
   "display_name": "Python 3",
   "language": "python",
   "name": "python3"
  },
  "language_info": {
   "codemirror_mode": {
    "name": "ipython",
    "version": 3
   },
   "file_extension": ".py",
   "mimetype": "text/x-python",
   "name": "python",
   "nbconvert_exporter": "python",
   "pygments_lexer": "ipython3",
   "version": "3.6.9"
  }
 },
 "nbformat": 4,
 "nbformat_minor": 4
}
